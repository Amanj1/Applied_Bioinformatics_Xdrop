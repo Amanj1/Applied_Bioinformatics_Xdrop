{
 "cells": [
  {
   "cell_type": "code",
   "execution_count": 1,
   "metadata": {
    "scrolled": true
   },
   "outputs": [
    {
     "name": "stdout",
     "output_type": "stream",
     "text": [
      "hg19_chr17.fasta\t\tpb_467_2_sr_blasr.bam\n",
      "hg19_chr17.fasta.fai\t\tpb_sorted.bam\n",
      "onlyTwoSNP.vcf\t\t\tpb_sorted.bam.bai\n",
      "pb_467_1_minor_variants.vcf\n"
     ]
    }
   ],
   "source": [
    "#run in the script folder\n",
    "ls ../Data\n",
    "#samtools sort pb_467_2_sr_blasr.bam > pb_sorted.bam\n",
    "#samtools index pb_sorted.bam"
   ]
  },
  {
   "cell_type": "code",
   "execution_count": null,
   "metadata": {},
   "outputs": [],
   "source": [
    "hehe-3:PacBioRead apple$ samtools view /Users/apple/Documents/AppliedBioinformatics/Data/pb_467_2_sr_blasr.bam  | wc -l\n",
    "   88760"
   ]
  },
  {
   "cell_type": "code",
   "execution_count": 3,
   "metadata": {},
   "outputs": [
    {
     "name": "stdout",
     "output_type": "stream",
     "text": [
      "      81\n"
     ]
    }
   ],
   "source": [
    "#samtools view -h ../Data/pb_sorted.bam 'chr17:7578263-7578263' 'chr17:7579312-7579312' \\\n",
    "#| wc -l\n",
    "#filter only the chr17 reads left\n",
    "samtools view -h -b  ../Data/pb_sorted.bam 'chr17'> ../Data/chr17.bam\n",
    "#filter only reads mapped through the two position left\n",
    "#region.bed:chr17\t7578262\t7578263; region2.bed:chr17\t7579311\t7579312\n",
    "#Was trying to do in samtools, but output from first position selection to be indexed.\n",
    "#TODO: generation of bed file(also bed files for generating realignment sequences)\n",
    "bedtools intersect -abam ../Data/chr17.bam -b ../Data/region.bed -wa \\\n",
    "|bedtools intersect -abam stdin -b ../Data/region2.bed -wa |samtools view - | wc -l\n",
    "#create longer selection region\n",
    "#region.bed:chr17\t7578212, 7578313; region2.bed:chr17\t7579261, 7579362 chr 177578212 7578313\n",
    "bedtools intersect -abam ../Data/chr17.bam -b ../Data/region50P1.bed -wa \\\n",
    "|bedtools intersect -abam stdin -b ../Data/region50P2.bed -wa |samtools view - | wc -l\n",
    "#- Please ensure that your file is TAB delimited (e.g., cat -t FILE)\n",
    "bedtools intersect -abam ../Data/chr17.bam -b ../Data/region50P1.bed  -wa \\\n",
    "| bedtools intersect -abam stdin -b ../Data/region50P1_1.bed  -wa \\\n",
    "| bedtools intersect -abam stdin -b ../Data/region50P2.bed  -wa \\\n",
    "| bedtools intersect -abam stdin -b ../Data/region50P2_1.bed  -wa | samtools view - | wc -l"
   ]
  },
  {
   "cell_type": "code",
   "execution_count": null,
   "metadata": {},
   "outputs": [],
   "source": [
    "#save the selected reads(PosA&PosB) to bam file\n",
    "bedtools intersect -abam ../Data/chr17.bam -b ../Data/region.bed -wa \\\n",
    "|bedtools intersect -abam stdin -b ../Data/region2.bed -wa > ../Data/selected.bam\n",
    "#TODO: generate fastQ and do factQC\n",
    "#TODO: check if the selected reads mapped through the two position. (samtools tview need sort index)\n",
    "#TODO: function that generates bed file.\n",
    "\n",
    "bedtools intersect -abam ../Data/chr17.bam -b ../Data/region50P1.bed  -wa \\\n",
    "| bedtools intersect -abam stdin -b ../Data/region50P1_1.bed  -wa \\\n",
    "| bedtools intersect -abam stdin -b ../Data/region50P2.bed  -wa \\\n",
    "| bedtools intersect -abam stdin -b ../Data/region50P2_1.bed  -wa > ../Data/120bpSelected.bam\n",
    "#TODO delect the bed file"
   ]
  },
  {
   "cell_type": "code",
   "execution_count": 3,
   "metadata": {},
   "outputs": [
    {
     "name": "stdout",
     "output_type": "stream",
     "text": [
      "[M::bam2fq_mainloop] discarded 0 singletons\n",
      "[M::bam2fq_mainloop] processed 81 reads\n"
     ]
    }
   ],
   "source": [
    "#BAM to fastQ using samtools\n",
    "samtools bam2fq ../Data/selected.bam > ../Data/selected.fastq"
   ]
  },
  {
   "cell_type": "code",
   "execution_count": 4,
   "metadata": {},
   "outputs": [],
   "source": [
    "#BAM to fastQ using bedtools\n",
    "bedtools bamtofastq -i ../Data/selected.bam -fq ../Data/bedtools.fastq"
   ]
  },
  {
   "cell_type": "code",
   "execution_count": 5,
   "metadata": {},
   "outputs": [
    {
     "name": "stdout",
     "output_type": "stream",
     "text": [
      "m170922_223647_42237_c101229972550000001823291512091717_s1_p0/105503/20133_30014/0_9881 *\n",
      "m170922_223647_42237_c101229972550000001823291512091717_s1_p0/105503/40045_50088/0_10043 *\n",
      "m170922_223647_42237_c101229972550000001823291512091717_s1_p0/105503/30061_39995/0_9934 *\n",
      "m170922_223647_42237_c101229972550000001823291512091717_s1_p0/105503/0_10121/0_10121 *\n",
      "m170922_223647_42237_c101229972550000001823291512091717_s1_p0/105503/10167_20088/0_9921 *\n"
     ]
    }
   ],
   "source": [
    "#base quality not stored column 11=* => no quality info in fastQ\n",
    "samtools view ../Data/selected_sorted.bam | awk '{print $1,  $11'} | head -5"
   ]
  },
  {
   "cell_type": "code",
   "execution_count": 6,
   "metadata": {},
   "outputs": [
    {
     "name": "stdout",
     "output_type": "stream",
     "text": [
      "81\n"
     ]
    }
   ],
   "source": [
    "#fastq to fasta\n",
    "#cat bedtools.fastq  | paste - - - - | awk -F '\\t' '{print \">\"$1 ; print $2;}'> bedtoolsSeq.fa\n",
    "cat ../Data/bedtools.fastq  | paste - - - - | awk -F '\\t' '{print \">\"$1 ; print $2;}'| grep -c \">\""
   ]
  },
  {
   "cell_type": "code",
   "execution_count": 9,
   "metadata": {},
   "outputs": [],
   "source": [
    "#generating sequences(referential)\n",
    "#TODO automated generation of Ref and Alt sequences\n",
    "#TODO 1/0 base when selecting the seq and index the Position of interest\n",
    "#increase the length of generated seq\n",
    "#\n",
    "bedtools getfasta -fi ../Data/hg19_chr17_changeName.fasta -bed ../Data/bed_selectSeq.bed \\\n",
    "-fo ../Data/test_realign.fa"
   ]
  },
  {
   "cell_type": "code",
   "execution_count": 10,
   "metadata": {},
   "outputs": [
    {
     "name": "stdout",
     "output_type": "stream",
     "text": [
      "bash: blastn: command not found\n"
     ]
    },
    {
     "ename": "",
     "evalue": "127",
     "output_type": "error",
     "traceback": []
    }
   ],
   "source": [
    "samtools view selected.bam | less -S"
   ]
  },
  {
   "cell_type": "code",
   "execution_count": null,
   "metadata": {},
   "outputs": [],
   "source": [
    "  501  export LC_ALL=en_US.UTF-8\n",
    "  502  export LANG=en_US.UTF-8\n",
    "\n",
    "#using UPPMAX\n",
    "#sent file to the server\n",
    "rsync -P ./hg19_chr17_changeName.fasta  zhiwei94@rackham.UPPMAX.uu.se:/home/zhiwei94/AppliedBio/Applied_Bioinformatics_Xdrop/hg19\n",
    "\n",
    "#load software\n",
    "module load bioinfo-tools\n",
    "module spider blasr/5.3-20171117-f72428d\n",
    "\n",
    "[zhiwei94@rackham2 Bash]$ blasr ../Query/query_15bpUp_15bpDown.fasta tmp.fasta -minMatch 5 -sam -hitPolicy randombest -out tmpResult.sam\n",
    "[zhiwei94@rackham2 Bash]$ blasr ../Query/query_15bpUp_15bpDown.fasta ../hg19/hg19_chr17_changeName.fasta -sam -out tmpRestul.sam\n",
    "#map bam to fastq\n",
    "blasr 120bpSelected.bam  hg19_chr17_changeName.fasta --bam --out tmpResult.bam\n",
    "\n",
    "[zhiwei94@rackham2 Bash]$ blasr ../PacBioRead/120bpSelected.bam  ../hg19/hg19_chr17_changeName.fasta  --bam --out tmpResult.bam\n",
    "[INFO] 2018-11-20T20:50:51 [blasr] started.\n",
    "terminate called after throwing an instance of 'std::runtime_error'\n",
    "  what():  malformed record name\n",
    "Aborted (core dumped)\n",
    "\n",
    "[zhiwei94@rackham2 Bash]$ blasr tmp.fasta  ../hg19/hg19_chr17_changeName.fasta  --bam --out tmpResult.bam\n",
    "[INFO] 2018-11-20T21:21:29 [blasr] started.\n",
    "ERROR, can not convert non-pacbio reads to pbbam record.\n",
    "\n",
    "blasr tmp.fasta  ../hg19/hg19_chr17_changeName.fasta\n",
    "https://github.com/PacificBiosciences/blasr/wiki/Advanced-options:-to-align-very-short-reads \n",
    "blasr ../Query/query_25bpUP_25bpDown.fasta tmp.fasta --minMatch 8 --minSubreadLength 1 --minReadLength 1 --maxScore 200\n",
    "# add -m 0 human readable output\n",
    "[zhiwei94@rackham2 Bash]$ blasr ../Query/query_25bpUP_25bpDown.fasta tmp.fasta --minMatch 8 --minSubreadLength 1 --minReadLength 1 --maxScore 400 -m 0"
   ]
  },
  {
   "cell_type": "code",
   "execution_count": null,
   "metadata": {},
   "outputs": [],
   "source": []
  }
 ],
 "metadata": {
  "kernelspec": {
   "display_name": "Bash",
   "language": "bash",
   "name": "bash"
  },
  "language_info": {
   "codemirror_mode": "shell",
   "file_extension": ".sh",
   "mimetype": "text/x-sh",
   "name": "bash"
  }
 },
 "nbformat": 4,
 "nbformat_minor": 2
}
